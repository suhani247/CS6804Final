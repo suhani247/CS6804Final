{
 "cells": [
  {
   "cell_type": "code",
   "execution_count": 1,
   "metadata": {
    "collapsed": true
   },
   "outputs": [],
   "source": [
    "import pandas as pd\n",
    "import urllib\n",
    "from sklearn.pipeline import Pipeline\n",
    "from sklearn.feature_extraction.text import CountVectorizer\n",
    "from sklearn.feature_extraction.text import TfidfTransformer\n",
    "from sklearn.linear_model import LogisticRegression\n",
    "from sklearn.metrics import roc_auc_score\n",
    "import pickle\n",
    "import preprocessor as p\n",
    "import numpy as np"
   ]
  },
  {
   "cell_type": "code",
   "execution_count": 2,
   "metadata": {},
   "outputs": [],
   "source": [
    "comments = pd.read_csv('../data/formspring_data_1.csv', sep = '\\t', index_col = 0)"
   ]
  },
  {
   "cell_type": "code",
   "execution_count": 3,
   "metadata": {
    "collapsed": true
   },
   "outputs": [],
   "source": [
    "def get_label(post):\n",
    "    label = 1 if ((post.ans1 == \"Yes\" and post.ans2 == \"Yes\") or (post.ans2 == \"Yes\" and post.ans3 == \"Yes\") or (post.ans1 == \"Yes\" and post.ans3 == \"Yes\")) else 0\n",
    "    return label\n",
    "\n",
    "comments['attack'] = comments.apply(get_label, axis=1)"
   ]
  },
  {
   "cell_type": "code",
   "execution_count": 4,
   "metadata": {
    "collapsed": true
   },
   "outputs": [],
   "source": [
    "import string\n",
    "comments['post'] = comments['post'].apply(lambda x: x.replace('Q:',' ').replace('A:',' ').replace('<br>',' '))\n",
    "comments['post'] = comments['post'].apply(lambda x: x.replace('Q:',' ').replace('A:',' ').replace('<br>',' '))\n",
    "comments['comment'] = comments['post'].apply(lambda x: \"\".join(l for l in x if l not in string.punctuation))\n"
   ]
  },
  {
   "cell_type": "code",
   "execution_count": 5,
   "metadata": {
    "collapsed": true
   },
   "outputs": [],
   "source": [
    "comments = comments[['comment','asker','attack']]"
   ]
  },
  {
   "cell_type": "code",
   "execution_count": 6,
   "metadata": {},
   "outputs": [
    {
     "data": {
      "text/html": [
       "<div>\n",
       "<style>\n",
       "    .dataframe thead tr:only-child th {\n",
       "        text-align: right;\n",
       "    }\n",
       "\n",
       "    .dataframe thead th {\n",
       "        text-align: left;\n",
       "    }\n",
       "\n",
       "    .dataframe tbody tr th {\n",
       "        vertical-align: top;\n",
       "    }\n",
       "</style>\n",
       "<table border=\"1\" class=\"dataframe\">\n",
       "  <thead>\n",
       "    <tr style=\"text-align: right;\">\n",
       "      <th></th>\n",
       "      <th>comment</th>\n",
       "      <th>asker</th>\n",
       "      <th>attack</th>\n",
       "    </tr>\n",
       "    <tr>\n",
       "      <th>userid</th>\n",
       "      <th></th>\n",
       "      <th></th>\n",
       "      <th></th>\n",
       "    </tr>\n",
       "  </thead>\n",
       "  <tbody>\n",
       "    <tr>\n",
       "      <th>aguitarplayer94</th>\n",
       "      <td>what039s your favorite song D   I like too m...</td>\n",
       "      <td>None</td>\n",
       "      <td>0</td>\n",
       "    </tr>\n",
       "    <tr>\n",
       "      <th>aprilpooh15</th>\n",
       "      <td>3   3  haha jk 33</td>\n",
       "      <td>None</td>\n",
       "      <td>0</td>\n",
       "    </tr>\n",
       "    <tr>\n",
       "      <th>aprilpooh15</th>\n",
       "      <td>quothey angel  you duh sexyquot   Really Tha...</td>\n",
       "      <td>None</td>\n",
       "      <td>0</td>\n",
       "    </tr>\n",
       "    <tr>\n",
       "      <th>aprilpooh15</th>\n",
       "      <td></td>\n",
       "      <td>None</td>\n",
       "      <td>0</td>\n",
       "    </tr>\n",
       "    <tr>\n",
       "      <th>aprilpooh15</th>\n",
       "      <td>MEOWWW   RAWR</td>\n",
       "      <td>None</td>\n",
       "      <td>0</td>\n",
       "    </tr>\n",
       "  </tbody>\n",
       "</table>\n",
       "</div>"
      ],
      "text/plain": [
       "                                                           comment asker  \\\n",
       "userid                                                                     \n",
       "aguitarplayer94    what039s your favorite song D   I like too m...  None   \n",
       "aprilpooh15                                      3   3  haha jk 33  None   \n",
       "aprilpooh15        quothey angel  you duh sexyquot   Really Tha...  None   \n",
       "aprilpooh15                                                         None   \n",
       "aprilpooh15                                          MEOWWW   RAWR  None   \n",
       "\n",
       "                 attack  \n",
       "userid                   \n",
       "aguitarplayer94       0  \n",
       "aprilpooh15           0  \n",
       "aprilpooh15           0  \n",
       "aprilpooh15           0  \n",
       "aprilpooh15           0  "
      ]
     },
     "execution_count": 6,
     "metadata": {},
     "output_type": "execute_result"
    }
   ],
   "source": [
    "comments.head()"
   ]
  },
  {
   "cell_type": "code",
   "execution_count": 7,
   "metadata": {},
   "outputs": [],
   "source": [
    "swear_words = \"../swear_words.txt\"\n",
    "word_list = []\n",
    "with open(swear_words) as f:\n",
    "    word_list = f.read().splitlines()"
   ]
  },
  {
   "cell_type": "code",
   "execution_count": 8,
   "metadata": {
    "collapsed": true
   },
   "outputs": [],
   "source": [
    "from textblob import TextBlob\n",
    "\n",
    "def tokens(post):\n",
    "    return TextBlob(post.decode('utf8')).words\n",
    "    \n",
    "def get_bad_word_count(post):\n",
    "    x = tokens(post)\n",
    "    count = 0\n",
    "    bad_words = []\n",
    "    for word in x:\n",
    "        if word in word_list:\n",
    "            count+=1\n",
    "            bad_words.append(word)\n",
    "    return count, str(bad_words)\n",
    "\n",
    "comments['bad_word_count'],comments['bad_word_list']= zip(*comments['comment'].map(get_bad_word_count)) "
   ]
  },
  {
   "cell_type": "code",
   "execution_count": 9,
   "metadata": {
    "collapsed": true
   },
   "outputs": [],
   "source": [
    "def data_analysis(comments):\n",
    "    total = len(comments)\n",
    "    bully = len(comments[comments['attack']==1])\n",
    "    swear = len(comments[comments['bad_word_count']>0])\n",
    "    anonymous = len(comments[comments['asker']=='None'])\n",
    "    swear_bully = len(comments[(comments['bad_word_count']>0) & (comments['attack']==1) ])\n",
    "    anonymous_bully = len(comments[(comments['attack']==1) & (comments['asker']=='None')])\n",
    "    anonymous_swear = len(comments[(comments['bad_word_count']>0)  & (comments['asker']=='None')])\n",
    "    anonymous_bully_swear = len(comments[(comments['attack']==1) & (comments['bad_word_count']>0)  & (comments['asker']=='None')])\n",
    "    \n",
    "    P_B = float(bully)/total\n",
    "    P_S = float(swear)/total\n",
    "    P_A = float(anonymous)/total\n",
    "    P_B_S = float(swear_bully)/swear\n",
    "    P_S_B = float(swear_bully)/bully\n",
    "    P_B_A = float(anonymous_bully)/anonymous\n",
    "    P_A_B = float(anonymous_bully)/bully\n",
    "    P_S_A = float(anonymous_swear)/anonymous\n",
    "    P_A_S = float(anonymous_swear)/total\n",
    "    P_B_A_S = float(anonymous_bully_swear)/ anonymous_swear\n",
    "    \n",
    "    print(\"P(B): \" + str(P_B))\n",
    "    print(\"P(S): \" + str(P_S))\n",
    "    print(\"P(A): \" + str(P_A))\n",
    "    print(\"P(B|S): \" + str(P_B_S))\n",
    "    print(\"P(S|B): \" + str(P_S_B))\n",
    "    print(\"P(B|A): \" + str(P_B_A))\n",
    "    print(\"P(A|B): \" + str(P_A_B))\n",
    "    print(\"P(S|A): \" + str(P_S_A))\n",
    "    print(\"P(B|A & S): \" + str(P_B_A_S))\n",
    "    "
   ]
  },
  {
   "cell_type": "code",
   "execution_count": 10,
   "metadata": {},
   "outputs": [
    {
     "name": "stdout",
     "output_type": "stream",
     "text": [
      "P(B): 0.0607531511783\n",
      "P(S): 0.164331010726\n",
      "P(A): 0.53159007281\n",
      "P(B|S): 0.218199142449\n",
      "P(S|B): 0.590206185567\n",
      "P(B|A): 0.0815905743741\n",
      "P(A|B): 0.713917525773\n",
      "P(S|A): 0.19852724595\n",
      "P(B|A & S): 0.249258160237\n"
     ]
    }
   ],
   "source": [
    "data_analysis(comments)"
   ]
  },
  {
   "cell_type": "code",
   "execution_count": null,
   "metadata": {
    "collapsed": true
   },
   "outputs": [],
   "source": []
  }
 ],
 "metadata": {
  "kernelspec": {
   "display_name": "Python 2",
   "language": "python",
   "name": "python2"
  },
  "language_info": {
   "codemirror_mode": {
    "name": "ipython",
    "version": 2
   },
   "file_extension": ".py",
   "mimetype": "text/x-python",
   "name": "python",
   "nbconvert_exporter": "python",
   "pygments_lexer": "ipython2",
   "version": "2.7.14"
  }
 },
 "nbformat": 4,
 "nbformat_minor": 2
}
